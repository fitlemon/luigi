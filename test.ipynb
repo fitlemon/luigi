{
 "cells": [
  {
   "cell_type": "code",
   "execution_count": 1,
   "metadata": {},
   "outputs": [],
   "source": [
    "from ikhmatullaev_hw_luigi import *"
   ]
  },
  {
   "cell_type": "code",
   "execution_count": 3,
   "metadata": {},
   "outputs": [],
   "source": [
    "params = {'dataset_name': 'GSE68849'}"
   ]
  },
  {
   "cell_type": "code",
   "execution_count": 5,
   "metadata": {},
   "outputs": [
    {
     "name": "stderr",
     "output_type": "stream",
     "text": [
      "DEBUG: Checking if CheckAndClear(dataset_name=GSE68849) is complete\n",
      "/home/fitlemon/code/luigi/.venvluigi/lib/python3.10/site-packages/luigi/worker.py:426: UserWarning: Task CheckAndClear(dataset_name=GSE68849) without outputs has no custom complete() method\n",
      "  is_complete = task.complete()\n",
      "DEBUG: Checking if ProcessProbesTable(dataset_name=GSE68849) is complete\n",
      "INFO: Informed scheduler that task   CheckAndClear_GSE68849_e34547c091   has status   PENDING\n",
      "DEBUG: Checking if SplitTables(dataset_name=GSE68849) is complete\n",
      "INFO: Informed scheduler that task   ProcessProbesTable_GSE68849_e34547c091   has status   PENDING\n",
      "DEBUG: Checking if ExtractFiles(dataset_name=GSE68849) is complete\n",
      "INFO: Informed scheduler that task   SplitTables_GSE68849_e34547c091   has status   PENDING\n",
      "DEBUG: Checking if ExtractArchives(dataset_name=GSE68849) is complete\n",
      "INFO: Informed scheduler that task   ExtractFiles_GSE68849_e34547c091   has status   PENDING\n",
      "DEBUG: Checking if DownloadDataset(dataset_name=GSE68849) is complete\n",
      "INFO: Informed scheduler that task   ExtractArchives_GSE68849_e34547c091   has status   PENDING\n",
      "INFO: Informed scheduler that task   DownloadDataset_GSE68849_e34547c091   has status   DONE\n",
      "INFO: Done scheduling tasks\n",
      "INFO: Running Worker with 1 processes\n",
      "DEBUG: Asking scheduler for work...\n",
      "DEBUG: Pending tasks: 5\n",
      "INFO: [pid 336994] Worker Worker(salt=1527313243, workers=1, host=fitlemonPC, username=fitlemon, pid=336994) running   ExtractArchives(dataset_name=GSE68849)\n",
      "INFO: Creating directory data/GSE68849/archives...\n",
      "INFO: Extract files from tar archive into data/GSE68849/archives...\n",
      "INFO: Files from tar archive extracted into data/GSE68849/archives.\n",
      "INFO: [pid 336994] Worker Worker(salt=1527313243, workers=1, host=fitlemonPC, username=fitlemon, pid=336994) done      ExtractArchives(dataset_name=GSE68849)\n",
      "DEBUG: 1 running tasks, waiting for next task to finish\n",
      "INFO: Informed scheduler that task   ExtractArchives_GSE68849_e34547c091   has status   DONE\n",
      "DEBUG: Asking scheduler for work...\n",
      "DEBUG: Pending tasks: 4\n",
      "INFO: [pid 336994] Worker Worker(salt=1527313243, workers=1, host=fitlemonPC, username=fitlemon, pid=336994) running   ExtractFiles(dataset_name=GSE68849)\n",
      "INFO: Create folder for file GPL10558_HumanHT-12_V4_0_R1_15002873_B...\n"
     ]
    },
    {
     "name": "stdout",
     "output_type": "stream",
     "text": [
      "data/GSE68849/archives\n",
      "data/GSE68849\n",
      "data/GSE68849/files\n",
      "data/GSE68849/archives\n",
      "data/GSE68849\n",
      "data/GSE68849/files\n",
      "data/GSE68849/archives\n",
      "data/GSE68849\n",
      "data/GSE68849/files\n",
      "data/GSE68849/archives\n",
      "data/GSE68849\n",
      "data/GSE68849/files\n",
      "data/GSE68849/archives\n",
      "data/GSE68849\n",
      "data/GSE68849/files\n",
      "data/GSE68849/archives\n",
      "data/GSE68849\n",
      "data/GSE68849/files\n",
      "data/GSE68849/archives\n",
      "data/GSE68849\n",
      "data/GSE68849/files\n",
      "data/GSE68849/archives\n",
      "data/GSE68849\n",
      "data/GSE68849/files\n",
      "data/GSE68849/archives\n",
      "data/GSE68849\n",
      "data/GSE68849/files\n"
     ]
    },
    {
     "name": "stderr",
     "output_type": "stream",
     "text": [
      "INFO: Unzipped archive to folder GPL10558_HumanHT-12_V4_0_R1_15002873_B.\n",
      "INFO: Create folder for file GPL10558_HumanHT-12_V4_0_R2_15002873_B...\n",
      "INFO: Unzipped archive to folder GPL10558_HumanHT-12_V4_0_R2_15002873_B.\n",
      "INFO: [pid 336994] Worker Worker(salt=1527313243, workers=1, host=fitlemonPC, username=fitlemon, pid=336994) done      ExtractFiles(dataset_name=GSE68849)\n",
      "DEBUG: 1 running tasks, waiting for next task to finish\n",
      "INFO: Informed scheduler that task   ExtractFiles_GSE68849_e34547c091   has status   DONE\n",
      "DEBUG: Asking scheduler for work...\n",
      "DEBUG: Pending tasks: 3\n",
      "INFO: [pid 336994] Worker Worker(salt=1527313243, workers=1, host=fitlemonPC, username=fitlemon, pid=336994) running   SplitTables(dataset_name=GSE68849)\n",
      "INFO: Split into tables the file data/GSE68849/files/GPL10558_HumanHT-12_V4_0_R1_15002873_B/GPL10558_HumanHT-12_V4_0_R1_15002873_B.txt.\n",
      "INFO: Save dataframe Heading.\n"
     ]
    },
    {
     "name": "stdout",
     "output_type": "stream",
     "text": [
      "data/GSE68849/archives\n",
      "data/GSE68849\n",
      "data/GSE68849/files\n",
      "data/GSE68849/archives\n",
      "data/GSE68849\n",
      "data/GSE68849/files\n"
     ]
    },
    {
     "name": "stderr",
     "output_type": "stream",
     "text": [
      "INFO: Save dataframe Probes.\n",
      "INFO: Save dataframe Controls.\n",
      "INFO: Split into tables the file data/GSE68849/files/GPL10558_HumanHT-12_V4_0_R2_15002873_B/GPL10558_HumanHT-12_V4_0_R2_15002873_B.txt.\n",
      "INFO: Save dataframe Heading.\n",
      "INFO: Save dataframe Probes.\n",
      "INFO: Save dataframe Controls.\n",
      "INFO: [pid 336994] Worker Worker(salt=1527313243, workers=1, host=fitlemonPC, username=fitlemon, pid=336994) done      SplitTables(dataset_name=GSE68849)\n",
      "DEBUG: 1 running tasks, waiting for next task to finish\n",
      "INFO: Informed scheduler that task   SplitTables_GSE68849_e34547c091   has status   DONE\n",
      "DEBUG: Asking scheduler for work...\n",
      "DEBUG: Pending tasks: 2\n",
      "INFO: [pid 336994] Worker Worker(salt=1527313243, workers=1, host=fitlemonPC, username=fitlemon, pid=336994) running   ProcessProbesTable(dataset_name=GSE68849)\n",
      "INFO: Modify Probes dataframe dataframe.\n"
     ]
    },
    {
     "name": "stdout",
     "output_type": "stream",
     "text": [
      "data/GSE68849/archives\n",
      "data/GSE68849\n",
      "data/GSE68849/files\n",
      "data/GSE68849/archives\n",
      "data/GSE68849\n",
      "data/GSE68849/files\n",
      "data/GSE68849/archives\n",
      "data/GSE68849\n",
      "data/GSE68849/files\n",
      "data/GSE68849/archives\n",
      "data/GSE68849\n",
      "data/GSE68849/files\n"
     ]
    },
    {
     "name": "stderr",
     "output_type": "stream",
     "text": [
      "INFO: Modify Probes dataframe dataframe.\n",
      "INFO: [pid 336994] Worker Worker(salt=1527313243, workers=1, host=fitlemonPC, username=fitlemon, pid=336994) done      ProcessProbesTable(dataset_name=GSE68849)\n",
      "DEBUG: 1 running tasks, waiting for next task to finish\n",
      "INFO: Informed scheduler that task   ProcessProbesTable_GSE68849_e34547c091   has status   DONE\n",
      "DEBUG: Asking scheduler for work...\n",
      "DEBUG: Pending tasks: 1\n",
      "INFO: [pid 336994] Worker Worker(salt=1527313243, workers=1, host=fitlemonPC, username=fitlemon, pid=336994) running   CheckAndClear(dataset_name=GSE68849)\n",
      "INFO: File deleted: GPL10558_HumanHT-12_V4_0_R2_15002873_B.txt\n",
      "INFO: File deleted: GPL10558_HumanHT-12_V4_0_R1_15002873_B.txt\n",
      "INFO: [pid 336994] Worker Worker(salt=1527313243, workers=1, host=fitlemonPC, username=fitlemon, pid=336994) done      CheckAndClear(dataset_name=GSE68849)\n",
      "DEBUG: 1 running tasks, waiting for next task to finish\n",
      "INFO: Informed scheduler that task   CheckAndClear_GSE68849_e34547c091   has status   DONE\n",
      "DEBUG: Asking scheduler for work...\n",
      "DEBUG: Done\n",
      "DEBUG: There are no more tasks to run at this time\n",
      "INFO: \n",
      "===== Luigi Execution Summary =====\n",
      "\n",
      "Scheduled 6 tasks of which:\n",
      "* 1 complete ones were encountered:\n",
      "    - 1 DownloadDataset(dataset_name=GSE68849)\n",
      "* 5 ran successfully:\n",
      "    - 1 CheckAndClear(dataset_name=GSE68849)\n",
      "    - 1 ExtractArchives(dataset_name=GSE68849)\n",
      "    - 1 ExtractFiles(dataset_name=GSE68849)\n",
      "    - 1 ProcessProbesTable(dataset_name=GSE68849)\n",
      "    - 1 SplitTables(dataset_name=GSE68849)\n",
      "\n",
      "This progress looks :) because there were no failed tasks or missing dependencies\n",
      "\n",
      "===== Luigi Execution Summary =====\n",
      "\n"
     ]
    },
    {
     "name": "stdout",
     "output_type": "stream",
     "text": [
      "data/GSE68849/archives\n",
      "data/GSE68849\n",
      "data/GSE68849/files\n",
      "data/GSE68849/archives\n",
      "data/GSE68849\n",
      "data/GSE68849/files\n",
      "data/GSE68849/archives\n",
      "data/GSE68849\n",
      "data/GSE68849/files\n",
      "data/GSE68849/archives\n",
      "data/GSE68849\n",
      "data/GSE68849/files\n",
      "data/GSE68849/archives\n",
      "data/GSE68849\n",
      "data/GSE68849/files\n",
      "data/GSE68849/archives\n",
      "data/GSE68849\n",
      "data/GSE68849/files\n",
      "data/GSE68849/archives\n",
      "data/GSE68849\n",
      "data/GSE68849/files\n",
      "data/GSE68849/archives\n",
      "data/GSE68849\n",
      "data/GSE68849/files\n"
     ]
    },
    {
     "data": {
      "text/plain": [
       "True"
      ]
     },
     "execution_count": 5,
     "metadata": {},
     "output_type": "execute_result"
    }
   ],
   "source": [
    "luigi.build([CheckAndClear(**params)], workers=1, local_scheduler=True)"
   ]
  }
 ],
 "metadata": {
  "kernelspec": {
   "display_name": ".venvluigi",
   "language": "python",
   "name": "python3"
  },
  "language_info": {
   "codemirror_mode": {
    "name": "ipython",
    "version": 3
   },
   "file_extension": ".py",
   "mimetype": "text/x-python",
   "name": "python",
   "nbconvert_exporter": "python",
   "pygments_lexer": "ipython3",
   "version": "3.10.12"
  }
 },
 "nbformat": 4,
 "nbformat_minor": 2
}
